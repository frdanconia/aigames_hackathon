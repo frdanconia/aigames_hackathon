{
 "cells": [
  {
   "cell_type": "code",
   "execution_count": 3,
   "metadata": {},
   "outputs": [],
   "source": [
    "import numpy as np\n",
    "import pandas as pd"
   ]
  },
  {
   "cell_type": "code",
   "execution_count": 37,
   "metadata": {},
   "outputs": [],
   "source": [
    "DATA_FOLDER = './dataav'\n",
    "\n",
    "DATA_AIPORTS_JSON = DATA_FOLDER + '/airports.json'\n",
    "DATA_LAT = DATA_FOLDER + '/lats.npy'\n",
    "DATA_LNG = DATA_FOLDER + '/lngs.npy'\n",
    "\n",
    "DATA_RUNWAY = DATA_FOLDER + '/runway_configs.csv'\n",
    "\n",
    "FOLDER_WEATHER =  DATA_FOLDER + '/weather_and_winds'\n",
    "EXAMPLE_WEATHER = FOLDER_WEATHER + '/forecast0_2019-09-01_00:00:00.npz'\n",
    "\n",
    "FLIGHT_TRAIN = DATA_FOLDER + '/flight_plans_train.csv'"
   ]
  },
  {
   "cell_type": "code",
   "execution_count": 34,
   "metadata": {},
   "outputs": [],
   "source": [
    "airports = pd.read_json(DATA_AIPORTS_JSON)\n",
    "lat = np.load(DATA_LAT)\n",
    "lng = np.load(DATA_LNG)\n",
    "runaway_config = pd.read_csv(DATA_RUNWAY)\n",
    "example_weather_list = list(np.load(EXAMPLE_WEATHER).values())"
   ]
  },
  {
   "cell_type": "code",
   "execution_count": 65,
   "metadata": {},
   "outputs": [
    {
     "data": {
      "text/plain": [
       "(152, 257)"
      ]
     },
     "execution_count": 65,
     "metadata": {},
     "output_type": "execute_result"
    }
   ],
   "source": [
    "example_weather_list[4].shape"
   ]
  },
  {
   "cell_type": "code",
   "execution_count": 57,
   "metadata": {},
   "outputs": [
    {
     "data": {
      "text/plain": [
       "1220"
      ]
     },
     "execution_count": 57,
     "metadata": {},
     "output_type": "execute_result"
    }
   ],
   "source": [
    "# DATA LOAD\n",
    "\n",
    "train_data = pd.read_csv(FLIGHT_TRAIN)\n",
    "max(train_data['decoded_fixes'].apply(len))\n",
    "\n",
    "#najdluzszy: 1220"
   ]
  },
  {
   "cell_type": "code",
   "execution_count": 51,
   "metadata": {},
   "outputs": [
    {
     "data": {
      "text/plain": [
       "400"
      ]
     },
     "execution_count": 51,
     "metadata": {},
     "output_type": "execute_result"
    }
   ],
   "source": [
    "len(train_data.head().iloc[1]['decoded_fixes'])"
   ]
  },
  {
   "cell_type": "code",
   "execution_count": null,
   "metadata": {},
   "outputs": [],
   "source": []
  }
 ],
 "metadata": {
  "kernelspec": {
   "display_name": "Python 3",
   "language": "python",
   "name": "python3"
  },
  "language_info": {
   "codemirror_mode": {
    "name": "ipython",
    "version": 3
   },
   "file_extension": ".py",
   "mimetype": "text/x-python",
   "name": "python",
   "nbconvert_exporter": "python",
   "pygments_lexer": "ipython3",
   "version": "3.6.9"
  }
 },
 "nbformat": 4,
 "nbformat_minor": 4
}
