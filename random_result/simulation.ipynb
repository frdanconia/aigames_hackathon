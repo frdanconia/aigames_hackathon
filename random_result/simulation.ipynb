{
 "cells": [
  {
   "cell_type": "code",
   "execution_count": 92,
   "metadata": {},
   "outputs": [],
   "source": [
    "import os\n",
    "import pygrib\n",
    "import pandas as pd\n",
    "directory = os.fsencode(\"./forcast\")\n",
    "dfs=[]\n",
    "#columns=[\"date\",\"feature\",\"value\"]\n",
    "import datetime\n",
    "\n",
    "for file in os.listdir(directory):\n",
    "     filename = os.fsdecode(file)\n",
    "     start = str(filename)[-8:-6]\n",
    "     end = str(filename)[-5:-2]\n",
    "     date = str(filename)[2:10]\n",
    "     \n",
    "        \n",
    "     \n",
    "     if not filename.endswith(\".zip\") and start==\"00\" and  not filename.endswith(\".txt\"): \n",
    "        date_date = datetime.datetime.strptime(date, '%Y%m%d')\n",
    "        file_path=os.path.join(directory.decode(\"utf-8\") , str(filename))\n",
    "        grib = pygrib.open(file_path)\n",
    "        msgs = grib.select()\n",
    "        \n",
    "        for i in range(0,50):\n",
    "            value=msgs[i].values[120,197]\n",
    "\n",
    "            #print(pd.DataFrame([[date_date,(start+\"_\"+end+\"_\"+str(i)),value]] ))           \n",
    "            df2=pd.DataFrame([[date_date,(start+\"_\"+end+\"_\"+str(i)),value]],columns=[\"date\",\"feature\",\"value\"])\n",
    "\n",
    "            dfs.append(df2)\n",
    "            #print(df)\n",
    "        #print(\"lol\")\n",
    "        #print(start)\n",
    "        #print(end)\n",
    "        #print(date)\n",
    "         \n",
    "     else:\n",
    "         continue\n",
    "df=pd.concat(dfs,ignore_index=True)\n"
   ]
  },
  {
   "cell_type": "code",
   "execution_count": 93,
   "metadata": {},
   "outputs": [
    {
     "data": {
      "text/html": [
       "<div>\n",
       "<style scoped>\n",
       "    .dataframe tbody tr th:only-of-type {\n",
       "        vertical-align: middle;\n",
       "    }\n",
       "\n",
       "    .dataframe tbody tr th {\n",
       "        vertical-align: top;\n",
       "    }\n",
       "\n",
       "    .dataframe thead th {\n",
       "        text-align: right;\n",
       "    }\n",
       "</style>\n",
       "<table border=\"1\" class=\"dataframe\">\n",
       "  <thead>\n",
       "    <tr style=\"text-align: right;\">\n",
       "      <th></th>\n",
       "      <th>date</th>\n",
       "      <th>feature</th>\n",
       "      <th>value</th>\n",
       "    </tr>\n",
       "  </thead>\n",
       "  <tbody>\n",
       "    <tr>\n",
       "      <th>0</th>\n",
       "      <td>2019-07-20</td>\n",
       "      <td>00_021_0</td>\n",
       "      <td>294.257006</td>\n",
       "    </tr>\n",
       "    <tr>\n",
       "      <th>1</th>\n",
       "      <td>2019-07-20</td>\n",
       "      <td>00_021_1</td>\n",
       "      <td>177.624232</td>\n",
       "    </tr>\n",
       "    <tr>\n",
       "      <th>2</th>\n",
       "      <td>2019-07-20</td>\n",
       "      <td>00_021_2</td>\n",
       "      <td>0.000000</td>\n",
       "    </tr>\n",
       "    <tr>\n",
       "      <th>3</th>\n",
       "      <td>2019-07-20</td>\n",
       "      <td>00_021_3</td>\n",
       "      <td>0.000000</td>\n",
       "    </tr>\n",
       "    <tr>\n",
       "      <th>4</th>\n",
       "      <td>2019-07-20</td>\n",
       "      <td>00_021_4</td>\n",
       "      <td>0.022732</td>\n",
       "    </tr>\n",
       "    <tr>\n",
       "      <th>...</th>\n",
       "      <td>...</td>\n",
       "      <td>...</td>\n",
       "      <td>...</td>\n",
       "    </tr>\n",
       "    <tr>\n",
       "      <th>50595</th>\n",
       "      <td>2019-07-16</td>\n",
       "      <td>00_000_45</td>\n",
       "      <td>52.573651</td>\n",
       "    </tr>\n",
       "    <tr>\n",
       "      <th>50596</th>\n",
       "      <td>2019-07-16</td>\n",
       "      <td>00_000_46</td>\n",
       "      <td>101093.246826</td>\n",
       "    </tr>\n",
       "    <tr>\n",
       "      <th>50597</th>\n",
       "      <td>2019-07-16</td>\n",
       "      <td>00_000_47</td>\n",
       "      <td>0.000000</td>\n",
       "    </tr>\n",
       "    <tr>\n",
       "      <th>50598</th>\n",
       "      <td>2019-07-16</td>\n",
       "      <td>00_000_48</td>\n",
       "      <td>0.000000</td>\n",
       "    </tr>\n",
       "    <tr>\n",
       "      <th>50599</th>\n",
       "      <td>2019-07-16</td>\n",
       "      <td>00_000_49</td>\n",
       "      <td>0.000000</td>\n",
       "    </tr>\n",
       "  </tbody>\n",
       "</table>\n",
       "<p>50600 rows × 3 columns</p>\n",
       "</div>"
      ],
      "text/plain": [
       "            date    feature          value\n",
       "0     2019-07-20   00_021_0     294.257006\n",
       "1     2019-07-20   00_021_1     177.624232\n",
       "2     2019-07-20   00_021_2       0.000000\n",
       "3     2019-07-20   00_021_3       0.000000\n",
       "4     2019-07-20   00_021_4       0.022732\n",
       "...          ...        ...            ...\n",
       "50595 2019-07-16  00_000_45      52.573651\n",
       "50596 2019-07-16  00_000_46  101093.246826\n",
       "50597 2019-07-16  00_000_47       0.000000\n",
       "50598 2019-07-16  00_000_48       0.000000\n",
       "50599 2019-07-16  00_000_49       0.000000\n",
       "\n",
       "[50600 rows x 3 columns]"
      ]
     },
     "execution_count": 93,
     "metadata": {},
     "output_type": "execute_result"
    }
   ],
   "source": [
    "df"
   ]
  },
  {
   "cell_type": "code",
   "execution_count": null,
   "metadata": {},
   "outputs": [],
   "source": [
    "#!sudo apt update  --yes\n",
    "#!sudo apt install libeccodes-dev \n",
    "!sudo apt install python3-pip \n",
    "!sudo pip3 install numpy\n",
    "!sudo pip3 install pyproj \n",
    "!sudo pip3 install pygrib  \n"
   ]
  },
  {
   "cell_type": "code",
   "execution_count": 36,
   "metadata": {},
   "outputs": [
    {
     "name": "stdout",
     "output_type": "stream",
     "text": [
      "    810     810   15726\n"
     ]
    }
   ],
   "source": [
    "!ls forcast  | wc"
   ]
  },
  {
   "cell_type": "code",
   "execution_count": 65,
   "metadata": {},
   "outputs": [],
   "source": [
    "import pickle\n",
    "def save_data(df,file):   \n",
    "    pickle.dump(df, open( file, \"wb\" ))"
   ]
  },
  {
   "cell_type": "code",
   "execution_count": 95,
   "metadata": {},
   "outputs": [],
   "source": [
    "save_data(df,\"./simulation.pkl\")"
   ]
  },
  {
   "cell_type": "code",
   "execution_count": 94,
   "metadata": {},
   "outputs": [
    {
     "data": {
      "text/html": [
       "<div>\n",
       "<style scoped>\n",
       "    .dataframe tbody tr th:only-of-type {\n",
       "        vertical-align: middle;\n",
       "    }\n",
       "\n",
       "    .dataframe tbody tr th {\n",
       "        vertical-align: top;\n",
       "    }\n",
       "\n",
       "    .dataframe thead th {\n",
       "        text-align: right;\n",
       "    }\n",
       "</style>\n",
       "<table border=\"1\" class=\"dataframe\">\n",
       "  <thead>\n",
       "    <tr style=\"text-align: right;\">\n",
       "      <th></th>\n",
       "      <th>date</th>\n",
       "      <th>feature</th>\n",
       "      <th>value</th>\n",
       "    </tr>\n",
       "  </thead>\n",
       "  <tbody>\n",
       "    <tr>\n",
       "      <th>0</th>\n",
       "      <td>2019-07-20</td>\n",
       "      <td>00_021_0</td>\n",
       "      <td>294.257006</td>\n",
       "    </tr>\n",
       "    <tr>\n",
       "      <th>1</th>\n",
       "      <td>2019-07-20</td>\n",
       "      <td>00_021_1</td>\n",
       "      <td>177.624232</td>\n",
       "    </tr>\n",
       "    <tr>\n",
       "      <th>2</th>\n",
       "      <td>2019-07-20</td>\n",
       "      <td>00_021_2</td>\n",
       "      <td>0.000000</td>\n",
       "    </tr>\n",
       "    <tr>\n",
       "      <th>3</th>\n",
       "      <td>2019-07-20</td>\n",
       "      <td>00_021_3</td>\n",
       "      <td>0.000000</td>\n",
       "    </tr>\n",
       "    <tr>\n",
       "      <th>4</th>\n",
       "      <td>2019-07-20</td>\n",
       "      <td>00_021_4</td>\n",
       "      <td>0.022732</td>\n",
       "    </tr>\n",
       "  </tbody>\n",
       "</table>\n",
       "</div>"
      ],
      "text/plain": [
       "        date   feature       value\n",
       "0 2019-07-20  00_021_0  294.257006\n",
       "1 2019-07-20  00_021_1  177.624232\n",
       "2 2019-07-20  00_021_2    0.000000\n",
       "3 2019-07-20  00_021_3    0.000000\n",
       "4 2019-07-20  00_021_4    0.022732"
      ]
     },
     "execution_count": 94,
     "metadata": {},
     "output_type": "execute_result"
    }
   ],
   "source": [
    "df.head()"
   ]
  },
  {
   "cell_type": "code",
   "execution_count": null,
   "metadata": {},
   "outputs": [],
   "source": []
  }
 ],
 "metadata": {
  "kernelspec": {
   "display_name": "Python 3",
   "language": "python",
   "name": "python3"
  },
  "language_info": {
   "codemirror_mode": {
    "name": "ipython",
    "version": 3
   },
   "file_extension": ".py",
   "mimetype": "text/x-python",
   "name": "python",
   "nbconvert_exporter": "python",
   "pygments_lexer": "ipython3",
   "version": "3.6.9"
  }
 },
 "nbformat": 4,
 "nbformat_minor": 4
}
