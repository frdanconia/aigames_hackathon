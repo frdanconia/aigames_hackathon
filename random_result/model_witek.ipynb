{
 "cells": [
  {
   "cell_type": "code",
   "execution_count": 26,
   "metadata": {},
   "outputs": [
    {
     "name": "stdout",
     "output_type": "stream",
     "text": [
      "Index(['value', '353200272_Wind-direction', '353200272_Air-temperature',\n",
      "       '353200272_Soil-temperature', '253200080_Precipitation-sum-past-24-hrs',\n",
      "       '353200272_Precipitation-sum-past-24-hrs',\n",
      "       '253200080_Precipitation-sum-past-1-hrs',\n",
      "       '353200272_Precipitation-sum-past-1-hrs',\n",
      "       '253200080_Precipitation-sum-past-10-mts',\n",
      "       '353200272_Precipitation-sum-past-10-mts',\n",
      "       ...\n",
      "       '00_030_45', '00_030_46', '00_030_47', '00_030_48', '00_030_49',\n",
      "       '00_030_5', '00_030_6', '00_030_7', '00_030_8', '00_030_9'],\n",
      "      dtype='object', length=564)\n"
     ]
    },
    {
     "data": {
      "text/plain": [
       "\",'00_030_015','00_024_016','00_024_017','00_024_045','00_024_046','00_024_047','00_024_048','00_024_049','00_024_049'\""
      ]
     },
     "execution_count": 26,
     "metadata": {},
     "output_type": "execute_result"
    }
   ],
   "source": [
    "import pickle\n",
    "import numpy as np\n",
    "import pandas as pd\n",
    "train_x = pickle.load(open('train_2C_simulation_x.pkl','rb'))\n",
    "train_y = pickle.load(open('train_y.pkl','rb'))\n",
    "print(train_x.columns)\n",
    "\n",
    "train_x_val = train_x.value\n",
    "\n",
    "#train_x_past = train_x.shift(periods=1, fill_value=0)\n",
    "#train_x_2past = train_x.shift(periods=2, fill_value=0)\n",
    "\n",
    "#train_x_f = pd.concat([train_x,train_x_past,train_x_two])\n",
    "#train_x=pd.concat([train_x, train_x_past, train_x_2past], axis=1,names=[\"value\",\"past\",\"2past\"])\n",
    "train_x=train_x[[\"value\",\"353200272_Precipitation-sum-past-24-hrs\",'353200272_Soil-temperature']]\n",
    "\",'00_030_015','00_024_016','00_024_017','00_024_045','00_024_046','00_024_047','00_024_048','00_024_049','00_024_049'\""
   ]
  },
  {
   "cell_type": "code",
   "execution_count": 27,
   "metadata": {},
   "outputs": [
    {
     "data": {
      "text/html": [
       "<div>\n",
       "<style scoped>\n",
       "    .dataframe tbody tr th:only-of-type {\n",
       "        vertical-align: middle;\n",
       "    }\n",
       "\n",
       "    .dataframe tbody tr th {\n",
       "        vertical-align: top;\n",
       "    }\n",
       "\n",
       "    .dataframe thead th {\n",
       "        text-align: right;\n",
       "    }\n",
       "</style>\n",
       "<table border=\"1\" class=\"dataframe\">\n",
       "  <thead>\n",
       "    <tr style=\"text-align: right;\">\n",
       "      <th></th>\n",
       "      <th>value</th>\n",
       "      <th>353200272_Precipitation-sum-past-24-hrs</th>\n",
       "      <th>353200272_Soil-temperature</th>\n",
       "    </tr>\n",
       "    <tr>\n",
       "      <th>timestamp</th>\n",
       "      <th></th>\n",
       "      <th></th>\n",
       "      <th></th>\n",
       "    </tr>\n",
       "  </thead>\n",
       "  <tbody>\n",
       "    <tr>\n",
       "      <th>2019-06-14 23:00:00</th>\n",
       "      <td>0.0</td>\n",
       "      <td>29.2</td>\n",
       "      <td>14.6</td>\n",
       "    </tr>\n",
       "    <tr>\n",
       "      <th>2019-06-14 16:00:00</th>\n",
       "      <td>0.0</td>\n",
       "      <td>29.2</td>\n",
       "      <td>25.3</td>\n",
       "    </tr>\n",
       "    <tr>\n",
       "      <th>2019-06-14 08:00:00</th>\n",
       "      <td>0.0</td>\n",
       "      <td>29.2</td>\n",
       "      <td>20.2</td>\n",
       "    </tr>\n",
       "    <tr>\n",
       "      <th>2019-06-14 13:00:00</th>\n",
       "      <td>0.0</td>\n",
       "      <td>29.2</td>\n",
       "      <td>26.5</td>\n",
       "    </tr>\n",
       "    <tr>\n",
       "      <th>2019-06-14 22:00:00</th>\n",
       "      <td>0.0</td>\n",
       "      <td>29.2</td>\n",
       "      <td>15.9</td>\n",
       "    </tr>\n",
       "    <tr>\n",
       "      <th>...</th>\n",
       "      <td>...</td>\n",
       "      <td>...</td>\n",
       "      <td>...</td>\n",
       "    </tr>\n",
       "    <tr>\n",
       "      <th>2019-08-31 19:00:00</th>\n",
       "      <td>0.0</td>\n",
       "      <td>0.0</td>\n",
       "      <td>20.0</td>\n",
       "    </tr>\n",
       "    <tr>\n",
       "      <th>2019-08-31 20:00:00</th>\n",
       "      <td>0.0</td>\n",
       "      <td>0.0</td>\n",
       "      <td>18.2</td>\n",
       "    </tr>\n",
       "    <tr>\n",
       "      <th>2019-08-31 21:00:00</th>\n",
       "      <td>0.0</td>\n",
       "      <td>0.0</td>\n",
       "      <td>15.6</td>\n",
       "    </tr>\n",
       "    <tr>\n",
       "      <th>2019-08-31 22:00:00</th>\n",
       "      <td>0.0</td>\n",
       "      <td>0.0</td>\n",
       "      <td>15.1</td>\n",
       "    </tr>\n",
       "    <tr>\n",
       "      <th>2019-08-31 23:00:00</th>\n",
       "      <td>0.0</td>\n",
       "      <td>0.0</td>\n",
       "      <td>14.0</td>\n",
       "    </tr>\n",
       "  </tbody>\n",
       "</table>\n",
       "<p>1703 rows × 3 columns</p>\n",
       "</div>"
      ],
      "text/plain": [
       "                     value  353200272_Precipitation-sum-past-24-hrs  \\\n",
       "timestamp                                                             \n",
       "2019-06-14 23:00:00    0.0                                     29.2   \n",
       "2019-06-14 16:00:00    0.0                                     29.2   \n",
       "2019-06-14 08:00:00    0.0                                     29.2   \n",
       "2019-06-14 13:00:00    0.0                                     29.2   \n",
       "2019-06-14 22:00:00    0.0                                     29.2   \n",
       "...                    ...                                      ...   \n",
       "2019-08-31 19:00:00    0.0                                      0.0   \n",
       "2019-08-31 20:00:00    0.0                                      0.0   \n",
       "2019-08-31 21:00:00    0.0                                      0.0   \n",
       "2019-08-31 22:00:00    0.0                                      0.0   \n",
       "2019-08-31 23:00:00    0.0                                      0.0   \n",
       "\n",
       "                     353200272_Soil-temperature  \n",
       "timestamp                                        \n",
       "2019-06-14 23:00:00                        14.6  \n",
       "2019-06-14 16:00:00                        25.3  \n",
       "2019-06-14 08:00:00                        20.2  \n",
       "2019-06-14 13:00:00                        26.5  \n",
       "2019-06-14 22:00:00                        15.9  \n",
       "...                                         ...  \n",
       "2019-08-31 19:00:00                        20.0  \n",
       "2019-08-31 20:00:00                        18.2  \n",
       "2019-08-31 21:00:00                        15.6  \n",
       "2019-08-31 22:00:00                        15.1  \n",
       "2019-08-31 23:00:00                        14.0  \n",
       "\n",
       "[1703 rows x 3 columns]"
      ]
     },
     "execution_count": 27,
     "metadata": {},
     "output_type": "execute_result"
    }
   ],
   "source": [
    "train_x"
   ]
  },
  {
   "cell_type": "code",
   "execution_count": 28,
   "metadata": {},
   "outputs": [],
   "source": [
    "from sklearn.utils import resample\n",
    "train_x, train_y = resample(train_x,  train_y, random_state=13,replace=True) #,stratify=train_y"
   ]
  },
  {
   "cell_type": "code",
   "execution_count": 29,
   "metadata": {},
   "outputs": [],
   "source": [
    "#X_train_selected_transformed, X_test_selected_transformed, y_train_encoded, y_test_encoded=prepare_undersample_train_test(train_x, train_y)"
   ]
  },
  {
   "cell_type": "code",
   "execution_count": 30,
   "metadata": {},
   "outputs": [],
   "source": [
    "from sklearn import preprocessing\n",
    "mm_scaler = preprocessing.MinMaxScaler()\n",
    "train_x = mm_scaler.fit_transform(train_x)\n",
    "#mm_scaler.transform(train_x)\n"
   ]
  },
  {
   "cell_type": "code",
   "execution_count": 51,
   "metadata": {},
   "outputs": [
    {
     "name": "stdout",
     "output_type": "stream",
     "text": [
      "[0.94366197 0.94190141 0.94003527]\n"
     ]
    },
    {
     "data": {
      "text/plain": [
       "AdaBoostClassifier(algorithm='SAMME',\n",
       "                   base_estimator=DecisionTreeClassifier(ccp_alpha=0.0,\n",
       "                                                         class_weight=None,\n",
       "                                                         criterion='gini',\n",
       "                                                         max_depth=1,\n",
       "                                                         max_features=None,\n",
       "                                                         max_leaf_nodes=None,\n",
       "                                                         min_impurity_decrease=0.0,\n",
       "                                                         min_impurity_split=None,\n",
       "                                                         min_samples_leaf=1,\n",
       "                                                         min_samples_split=2,\n",
       "                                                         min_weight_fraction_leaf=0.0,\n",
       "                                                         presort='deprecated',\n",
       "                                                         random_state=None,\n",
       "                                                         splitter='best'),\n",
       "                   learning_rate=1.0, n_estimators=200, random_state=10)"
      ]
     },
     "execution_count": 51,
     "metadata": {},
     "output_type": "execute_result"
    }
   ],
   "source": [
    "from sklearn.ensemble import AdaBoostClassifier\n",
    "from sklearn.tree import DecisionTreeClassifier\n",
    "from sklearn.datasets import make_classification\n",
    "from sklearn.svm import SVC\n",
    "from sklearn.model_selection import cross_val_score\n",
    "#clf = SVC(kernel='linear', \n",
    "#            class_weight='balanced', # penalize\n",
    "#            probability=True,verbose=True)\n",
    "clf = AdaBoostClassifier(DecisionTreeClassifier(max_depth=1,max_features=12),algorithm=\"SAMME\",n_estimators= 420, random_state=10,learning_rate=1.85)\n",
    "\n",
    "scores = cross_val_score(clf,train_x, train_y, cv=3)\n",
    "print(scores)\n",
    "clf.fit(train_x, train_y)\n",
    "#clf.score(train_x, train_y)"
   ]
  },
  {
   "cell_type": "code",
   "execution_count": 52,
   "metadata": {},
   "outputs": [
    {
     "data": {
      "text/plain": [
       "array([[0.        , 0.01771654, 0.24451411],\n",
       "       [0.        , 0.03937008, 0.09404389],\n",
       "       [0.        , 0.00590551, 0.06896552],\n",
       "       ...,\n",
       "       [0.        , 0.0019685 , 0.830721  ],\n",
       "       [0.        , 0.1003937 , 0.52664577],\n",
       "       [0.        , 0.03346457, 0.12852665]])"
      ]
     },
     "execution_count": 52,
     "metadata": {},
     "output_type": "execute_result"
    }
   ],
   "source": [
    "train_x"
   ]
  },
  {
   "cell_type": "code",
   "execution_count": 53,
   "metadata": {},
   "outputs": [
    {
     "name": "stdout",
     "output_type": "stream",
     "text": [
      "(3,)\n",
      "[1 2 0]\n"
     ]
    }
   ],
   "source": [
    "arr=clf.feature_importances_\n",
    "idx = (-arr).argsort()[:15]\n",
    "print(arr.shape)\n",
    "print(idx)"
   ]
  },
  {
   "cell_type": "code",
   "execution_count": 54,
   "metadata": {},
   "outputs": [
    {
     "data": {
      "text/plain": [
       "array([[0.        , 0.00590551, 0.36363636],\n",
       "       [0.        , 0.00590551, 0.37304075],\n",
       "       [0.        , 0.00590551, 0.32601881],\n",
       "       ...,\n",
       "       [0.        , 0.        , 0.37931034],\n",
       "       [0.        , 0.        , 0.26959248],\n",
       "       [0.        , 0.        , 0.26332288]])"
      ]
     },
     "execution_count": 54,
     "metadata": {},
     "output_type": "execute_result"
    }
   ],
   "source": [
    "test_x = pickle.load(open('test_2C_simulation_x.pkl','rb'))\n",
    "#test_x_val=test_x.value\n",
    "\n",
    "#test_x_past = test_x.shift(periods=1, fill_value=0)\n",
    "#test_x_2past = test_x.shift(periods=2, fill_value=0)\n",
    "\n",
    "\n",
    "\n",
    "#train_x_f = pd.concat([train_x,train_x_past,train_x_two])\n",
    "#test_x=pd.concat([test_x, test_x_past, test_x_2past], axis=1,names=[\"value\",\"past\",\"2past\"])\n",
    "\n",
    "test_x=test_x[[\"value\",\"353200272_Precipitation-sum-past-24-hrs\",'353200272_Soil-temperature']]\n",
    "mm_scaler.transform(test_x)"
   ]
  },
  {
   "cell_type": "code",
   "execution_count": 55,
   "metadata": {},
   "outputs": [],
   "source": [
    "\n",
    "test_y = clf.predict(test_x.to_numpy())"
   ]
  },
  {
   "cell_type": "code",
   "execution_count": 57,
   "metadata": {},
   "outputs": [
    {
     "data": {
      "text/plain": [
       "array([0, 0, 0, 0, 0, 0, 0, 0, 0, 0, 0, 0, 0, 0, 0, 0, 0, 0, 0, 0, 0, 0,\n",
       "       0, 0, 0, 0, 0, 0, 0, 0, 0, 0, 0, 0, 0, 0, 0, 0, 0, 0, 0, 0, 0, 0,\n",
       "       0, 0, 0, 0, 0, 0, 0, 0, 0, 0, 0, 0, 0, 0, 0, 0, 0, 0, 0, 0, 0, 0,\n",
       "       0, 0, 0, 0, 0, 0, 0, 0, 0, 0, 0, 0, 0, 0, 0, 0, 0, 0, 0, 0, 0, 0,\n",
       "       0, 0, 0, 0, 0, 0, 0, 0, 0, 0, 0, 0, 0, 0, 0, 0, 0, 0, 0, 0, 0, 0,\n",
       "       0, 0, 0, 0, 0, 0, 0, 0, 0, 0, 0, 0, 0, 0, 0, 0, 0, 0, 0, 0, 0, 0,\n",
       "       0, 0, 0, 0, 0, 0, 0, 0, 0, 0, 0, 0, 0, 0, 0, 0, 0, 0, 0, 0, 0, 0,\n",
       "       0, 0, 0, 0, 0, 0, 0, 0, 0, 0, 0, 0, 0, 0, 0, 0, 0, 0, 0, 0, 0, 0,\n",
       "       0, 0, 0, 0, 0, 0, 0, 0, 0, 0, 0, 0, 0, 0, 0, 0, 0, 0, 0, 0, 0, 0,\n",
       "       0, 0, 0, 0, 0, 0, 0, 0, 0, 0, 0, 0, 0, 0, 0, 0, 0, 0, 0, 0, 0, 0,\n",
       "       0, 0, 0, 0, 0, 0, 0, 0, 0, 0, 0, 0, 0, 0, 0, 0, 0, 0, 0, 0, 0, 0,\n",
       "       0, 0, 0, 0, 0, 0, 0, 0, 0, 0, 0, 0, 0, 0, 0, 0, 0, 0, 0, 0, 0, 0,\n",
       "       0, 0, 0, 0, 0, 0, 0, 0, 0, 0, 0, 0, 0, 0, 0, 0, 0, 0, 0, 0, 0, 0,\n",
       "       0, 0, 0, 0, 0, 0, 0, 0, 0, 0, 0, 0, 0, 0, 0, 0, 0, 0, 0, 0, 0, 0,\n",
       "       0, 0, 0, 0, 0, 0, 0, 0, 0, 0, 0, 0, 0, 0, 0, 0, 0, 0, 0, 0, 0, 0,\n",
       "       0, 0, 0, 0, 0, 0, 0, 0, 0, 0, 0, 0, 0, 0, 0, 0, 0, 0, 0, 0, 0, 0,\n",
       "       0, 0, 0, 0, 0, 0, 0, 0, 0, 0, 0, 0, 0, 0, 0, 0, 0, 0, 0, 0, 0, 0,\n",
       "       0, 0, 0, 0, 0, 0, 0, 0, 0, 0, 0, 0, 0, 0, 0, 0, 0, 0, 0, 0, 0, 0,\n",
       "       0, 0, 0, 0, 0, 0, 0, 0, 0, 0, 0, 0, 0, 0, 0, 0, 0, 0, 0, 0, 0, 0,\n",
       "       0, 0, 0, 0, 0, 0, 0, 0, 0, 0, 0, 0, 0, 0, 0, 0, 0, 0, 0, 0, 0, 0,\n",
       "       0, 0, 0, 0, 0, 0, 0, 0, 0, 0, 0, 0, 0, 0, 0, 0, 0, 0, 0, 0, 0, 0,\n",
       "       0, 0, 0, 0, 0, 0, 0, 0, 0, 0, 0, 0, 0, 0, 0, 0, 0, 0, 0, 0, 0, 0,\n",
       "       0, 0, 0, 0, 0, 0, 0, 0, 0, 0, 0, 0, 0, 0, 0, 0, 0, 0, 0, 0])"
      ]
     },
     "execution_count": 57,
     "metadata": {},
     "output_type": "execute_result"
    }
   ],
   "source": [
    "test_y"
   ]
  },
  {
   "cell_type": "code",
   "execution_count": 78,
   "metadata": {},
   "outputs": [],
   "source": [
    "test_x = pickle.load(open('test_94C_x.pkl','rb'))\n",
    "\n",
    "test_x['pred'] = np.array(np.round(test_y).reshape(504)).astype(int)\n",
    "test_x[['pred']].to_csv('test_94C_y_witek38.csv',header=False,sep=';')"
   ]
  },
  {
   "cell_type": "code",
   "execution_count": null,
   "metadata": {},
   "outputs": [],
   "source": []
  },
  {
   "cell_type": "code",
   "execution_count": null,
   "metadata": {},
   "outputs": [],
   "source": []
  },
  {
   "cell_type": "code",
   "execution_count": null,
   "metadata": {},
   "outputs": [],
   "source": []
  }
 ],
 "metadata": {
  "kernelspec": {
   "display_name": "Python 3",
   "language": "python",
   "name": "python3"
  },
  "language_info": {
   "codemirror_mode": {
    "name": "ipython",
    "version": 3
   },
   "file_extension": ".py",
   "mimetype": "text/x-python",
   "name": "python",
   "nbconvert_exporter": "python",
   "pygments_lexer": "ipython3",
   "version": "3.6.9"
  }
 },
 "nbformat": 4,
 "nbformat_minor": 4
}
